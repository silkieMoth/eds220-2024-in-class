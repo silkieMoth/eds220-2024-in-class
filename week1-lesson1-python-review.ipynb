{
 "cells": [
  {
   "cell_type": "markdown",
   "id": "d0fdfa9b-b1e0-456d-8549-fcf8c78a3c0d",
   "metadata": {},
   "source": [
    "# python review\n",
    "\n",
    "short reveiw about some core concepts in pythin exemplified by objects in the numpy library\n",
    "\n",
    "### goals:\n",
    "- recall basic python vocab\n",
    "- practice markdown syntax\n",
    "\n",
    "## libraries and packages\n",
    "**library:** os a collection of code that we can use to perform specific tasks in our programs. it can be a single file or multiple files.\n",
    "\n",
    "**numpy:**\n",
    "\n",
    "- core library for numerical computing in python\n",
    "- many of libraries use numpy arrays as their building blocks\n",
    "- computations on numpy objects are optimized for speed and memory usage\n",
    "\n",
    "lets import numpy with is **standard abbreviation** `np`:"
   ]
  },
  {
   "cell_type": "code",
   "execution_count": 2,
   "id": "1efda1a7-73d8-4988-a6fc-c1dbf3bfcbdc",
   "metadata": {
    "tags": []
   },
   "outputs": [],
   "source": [
    "import numpy as np"
   ]
  },
  {
   "cell_type": "markdown",
   "id": "08875261-6bd9-42f6-983a-75af287d8b6f",
   "metadata": {},
   "source": [
    "## variables\n",
    "\n",
    "**variable:** a name we assign to a particular object in python\n",
    "\n",
    "example:"
   ]
  },
  {
   "cell_type": "code",
   "execution_count": 3,
   "id": "c18fb256-08d8-46cd-b17e-0ccbb035850f",
   "metadata": {
    "tags": []
   },
   "outputs": [],
   "source": [
    "# assign a small array to variable a\n",
    "a = np.array([ [1,1,2], [3,5,8] ])"
   ]
  },
  {
   "cell_type": "markdown",
   "id": "bc31ea2a-4681-43fe-9830-0f1f71bba43d",
   "metadata": {},
   "source": [
    "to view a variables value from out jupyter notebook"
   ]
  },
  {
   "cell_type": "code",
   "execution_count": 4,
   "id": "194f86d0-015b-4bd5-a9b9-320ecb0eb119",
   "metadata": {
    "tags": []
   },
   "outputs": [
    {
     "data": {
      "text/plain": [
       "array([[1, 1, 2],\n",
       "       [3, 5, 8]])"
      ]
     },
     "execution_count": 4,
     "metadata": {},
     "output_type": "execute_result"
    }
   ],
   "source": [
    "# run cell with variable name to show value\n",
    "\n",
    "a"
   ]
  },
  {
   "cell_type": "code",
   "execution_count": 5,
   "id": "01894c02-cb48-45a5-85f1-d06706708014",
   "metadata": {
    "tags": []
   },
   "outputs": [
    {
     "name": "stdout",
     "output_type": "stream",
     "text": [
      "[[1 1 2]\n",
      " [3 5 8]]\n"
     ]
    }
   ],
   "source": [
    "# use `print` function to print value\n",
    "\n",
    "print(a)"
   ]
  },
  {
   "cell_type": "markdown",
   "id": "53ea7f21-a04e-438b-8672-d314beb5ed5b",
   "metadata": {},
   "source": [
    "## convention: use `snake_case` for naming variables.\n",
    "\n",
    "this is the convention we will use in the course. Why? `my-variable` or `MyVariable` or `myVariable`,\n",
    "PEP 8 - Style Guide for Python Code recommends snake_case.\n",
    "\n",
    "**Remember thtat variable names should both be descriptive and concise**\n",
    "\n",
    "## Objects\n",
    "\n",
    "**object:** (informally speaking) is a bundle of *properties* and *actions* about something specific.\n",
    "\n",
    "Example:\n",
    "\n",
    "Object: data frame\n",
    "Properties: number of rows, names of columns, and date created\n",
    "Actions: selecting a specific row or adding a new column\n",
    "\n",
    "A variable is the name we give a specific object, and the same object can be referenced by different variables.\n",
    "\n",
    "In practice, we can often use the word variable and object interchangeably.\n",
    "\n",
    "## Types\n",
    "\n",
    "Every object in Python has a **type**, the type tells us what kind o fobject we have.\n",
    "We can also call the type of an object, the **class** of and object. So class and object both mean what kind of object we have."
   ]
  },
  {
   "cell_type": "code",
   "execution_count": 6,
   "id": "a7d60d38-7431-4a19-af5b-f9df3046aaa6",
   "metadata": {
    "tags": []
   },
   "outputs": [
    {
     "name": "stdout",
     "output_type": "stream",
     "text": [
      "[[1 1 2]\n",
      " [3 5 8]]\n"
     ]
    }
   ],
   "source": [
    "print(a)"
   ]
  },
  {
   "cell_type": "code",
   "execution_count": 7,
   "id": "da5185bd-2173-4c93-9aa9-ff23bb1a8e94",
   "metadata": {
    "tags": []
   },
   "outputs": [
    {
     "data": {
      "text/plain": [
       "numpy.ndarray"
      ]
     },
     "execution_count": 7,
     "metadata": {},
     "output_type": "execute_result"
    }
   ],
   "source": [
    "# see the type/class of a variable/object by using `type` function\n",
    "type(a)"
   ]
  },
  {
   "cell_type": "markdown",
   "id": "413c6c17-0274-4ee4-8d0a-ebe5e9aedf39",
   "metadata": {},
   "source": [
    "the `numpy.ndarray` is the core object/data type of the NumPy package."
   ]
  },
  {
   "cell_type": "code",
   "execution_count": 8,
   "id": "df663b83-3b4a-489a-aa71-ea1853739e32",
   "metadata": {
    "tags": []
   },
   "outputs": [
    {
     "name": "stdout",
     "output_type": "stream",
     "text": [
      "1\n"
     ]
    }
   ],
   "source": [
    "print(a[0,0])"
   ]
  },
  {
   "cell_type": "code",
   "execution_count": 9,
   "id": "116aeb59-6b64-4917-9908-0bb622214518",
   "metadata": {
    "tags": []
   },
   "outputs": [
    {
     "data": {
      "text/plain": [
       "numpy.int64"
      ]
     },
     "execution_count": 9,
     "metadata": {},
     "output_type": "execute_result"
    }
   ],
   "source": [
    "type(a[0,0])"
   ]
  },
  {
   "cell_type": "markdown",
   "id": "1c3f8e34-edb7-4e75-a636-899666f7538a",
   "metadata": {},
   "source": [
    "`numpy.int64` is not the standard Python integer type `int`.\n",
    "\n",
    "`numpy.int64` is a special data type in Numpy telling us that 1 is an integer stored as a 64 bit number\n",
    "\n",
    "check in: access the value 5 in array `a`"
   ]
  },
  {
   "cell_type": "code",
   "execution_count": 15,
   "id": "2b5a1a5a-e1de-4419-b4e7-a09ab0e9eb9f",
   "metadata": {
    "tags": []
   },
   "outputs": [
    {
     "name": "stdout",
     "output_type": "stream",
     "text": [
      "5\n"
     ]
    }
   ],
   "source": [
    "print(a[1,1])"
   ]
  },
  {
   "cell_type": "markdown",
   "id": "a62dbb18-7f1f-4906-a724-412529765cb4",
   "metadata": {},
   "source": [
    "## functions\n",
    "\n",
    "`print` was our first example of a python **function**\n",
    "\n",
    "functions take in a set of **arguments** separated by commas, and use those arguments to create an **output**.\n",
    "\n",
    "In the course we'll be using argument and parameter interchangeably. but they do have slightly different meanings\n",
    "\n",
    "we can ask for info about what as function does by executing ? followed by the function name:"
   ]
  },
  {
   "cell_type": "code",
   "execution_count": 16,
   "id": "40366ca9-af08-48a3-827c-e01da20f2bcd",
   "metadata": {
    "tags": []
   },
   "outputs": [
    {
     "data": {
      "text/plain": [
       "\u001b[0;31mDocstring:\u001b[0m\n",
       "print(value, ..., sep=' ', end='\\n', file=sys.stdout, flush=False)\n",
       "\n",
       "Prints the values to a stream, or to sys.stdout by default.\n",
       "Optional keyword arguments:\n",
       "file:  a file-like object (stream); defaults to the current sys.stdout.\n",
       "sep:   string inserted between values, default a space.\n",
       "end:   string appended after the last value, default a newline.\n",
       "flush: whether to forcibly flush the stream.\n",
       "\u001b[0;31mType:\u001b[0m      builtin_function_or_method\n"
      ]
     },
     "metadata": {},
     "output_type": "display_data"
    }
   ],
   "source": [
    "?print"
   ]
  },
  {
   "cell_type": "markdown",
   "id": "f8405feb-377e-4642-b444-944248e0a1ed",
   "metadata": {},
   "source": [
    "what we obtain is a **docstring**, a special type of comment that is used to document how a fuction (or a class, or module) works.\n",
    "\n",
    "notice is that there are different types of arguents inside the functions parenthesis\n",
    "\n",
    "roughtly speaking, a function has two types of arguments:\n",
    "\n",
    "- **non optional arguments**: arguments *you* have to specify for the unction to work\n",
    "- **optional arguments**: arguments that are pre-filled with a default value by the function, but you can override them. optional arguments appear inside the parenthesis () in the form `optional_argument = default_value`.\n",
    "\n",
    "Example\n",
    "\n",
    "`end` us a parameter in `print` with default value a new line\n",
    "we can pass the value `:-)` to this parameter so that it finished the line with `:-)` instead:"
   ]
  },
  {
   "cell_type": "code",
   "execution_count": 18,
   "id": "b9df5ce5-f651-4631-97b8-ba73aef15e84",
   "metadata": {
    "tags": []
   },
   "outputs": [
    {
     "name": "stdout",
     "output_type": "stream",
     "text": [
      "change the end parameter:-)"
     ]
    }
   ],
   "source": [
    "print(\"change the end parameter\", end =  \":-)\")"
   ]
  },
  {
   "cell_type": "markdown",
   "id": "0c3054e3-abd2-4222-b9a6-d8bd3434f253",
   "metadata": {},
   "source": [
    "## attributes and methods\n",
    "\n",
    "an object in python has attributes and methods.\n",
    "\n",
    "- **attributes**: a property of the object, some piec of info abot it.\n",
    "- **method**: a procedure associated with an object, so it is an action where the main ingredient is the object itself\n",
    "\n",
    "## check in \n",
    "\n",
    "make class fish, give it 3 methods and 3 attributes"
   ]
  },
  {
   "cell_type": "markdown",
   "id": "437d24d0-e56a-4f77-ab7e-937b25eab8a4",
   "metadata": {
    "tags": []
   },
   "source": [
    "attributes: swimming style, diet, derpness\n",
    "methods: vibe, dance, cromch"
   ]
  },
  {
   "cell_type": "code",
   "execution_count": 20,
   "id": "2c58ccb9-97e6-4099-9caa-643ff35bfb04",
   "metadata": {
    "tags": []
   },
   "outputs": [
    {
     "data": {
      "text/plain": [
       "array([[1, 1, 2],\n",
       "       [3, 5, 8]])"
      ]
     },
     "execution_count": 20,
     "metadata": {},
     "output_type": "execute_result"
    }
   ],
   "source": [
    "a"
   ]
  },
  {
   "cell_type": "code",
   "execution_count": 21,
   "id": "85617674-f0e0-47d5-9677-5505a031dccf",
   "metadata": {
    "tags": []
   },
   "outputs": [
    {
     "name": "stdout",
     "output_type": "stream",
     "text": [
      "[[1 3]\n",
      " [1 5]\n",
      " [2 8]]\n"
     ]
    }
   ],
   "source": [
    "# t is an example of an attribute, it returns the transpose of an array\n",
    "print(a.T)"
   ]
  },
  {
   "cell_type": "code",
   "execution_count": 22,
   "id": "49c32f3b-4b23-4a2d-bc2a-15ee4273f22f",
   "metadata": {
    "tags": []
   },
   "outputs": [
    {
     "data": {
      "text/plain": [
       "numpy.ndarray"
      ]
     },
     "execution_count": 22,
     "metadata": {},
     "output_type": "execute_result"
    }
   ],
   "source": [
    "type(a.T)"
   ]
  },
  {
   "cell_type": "code",
   "execution_count": 23,
   "id": "637bfe98-4be3-464a-a8d7-067909887b8c",
   "metadata": {
    "tags": []
   },
   "outputs": [
    {
     "name": "stdout",
     "output_type": "stream",
     "text": [
      "(2, 3)\n",
      "<class 'tuple'>\n"
     ]
    }
   ],
   "source": [
    "# shape another attribute tells us the shape of the array\n",
    "print(a.shape)\n",
    "print(type(a.shape))"
   ]
  },
  {
   "cell_type": "code",
   "execution_count": 25,
   "id": "e28f02ad-5cfb-4fef-9636-79e4806975d3",
   "metadata": {
    "tags": []
   },
   "outputs": [
    {
     "name": "stdout",
     "output_type": "stream",
     "text": [
      "dim: 2 | type <class 'int'>\n"
     ]
    }
   ],
   "source": [
    "print(\"dim:\", a.ndim, \"| type\", type(a.ndim))"
   ]
  },
  {
   "cell_type": "markdown",
   "id": "e63dd129-8cdb-4867-afac-be8afcbe0c06",
   "metadata": {},
   "source": [
    "attributes can have many different data types\n",
    "\n",
    "some examples of methods:"
   ]
  },
  {
   "cell_type": "code",
   "execution_count": 26,
   "id": "93cbfa47-27f2-4ae3-8954-38cd401c7c58",
   "metadata": {
    "tags": []
   },
   "outputs": [
    {
     "name": "stdout",
     "output_type": "stream",
     "text": [
      "[[1 1 2]\n",
      " [3 5 8]]\n"
     ]
    },
    {
     "data": {
      "text/plain": [
       "array([1, 1, 2])"
      ]
     },
     "execution_count": 26,
     "metadata": {},
     "output_type": "execute_result"
    }
   ],
   "source": [
    "#  the min method returns the minimum value in the array along a specified axis\n",
    "print(a)\n",
    "\n",
    "a.min(axis = 0)"
   ]
  },
  {
   "cell_type": "code",
   "execution_count": 27,
   "id": "f18e383b-31dc-4251-822d-193dde46426b",
   "metadata": {
    "tags": []
   },
   "outputs": [
    {
     "data": {
      "text/plain": [
       "1"
      ]
     },
     "execution_count": 27,
     "metadata": {},
     "output_type": "execute_result"
    }
   ],
   "source": [
    "# run min method with axis\n",
    "a.min()"
   ]
  },
  {
   "cell_type": "markdown",
   "id": "385da605-4a93-43d8-bd92-4a145b21c00f",
   "metadata": {},
   "source": [
    "remember, methods are functions associated with an object. we can confirm this"
   ]
  },
  {
   "cell_type": "code",
   "execution_count": 29,
   "id": "30254f59-cc56-4b9d-ada3-5401f5e74ad2",
   "metadata": {
    "tags": []
   },
   "outputs": [
    {
     "data": {
      "text/plain": [
       "[[1, 1, 2], [3, 5, 8]]"
      ]
     },
     "execution_count": 29,
     "metadata": {},
     "output_type": "execute_result"
    }
   ],
   "source": [
    "# method tolist() to transform array into lsit\n",
    "a.tolist()"
   ]
  },
  {
   "cell_type": "markdown",
   "id": "6d820673-10e2-43e9-b885-83a18ffaab8f",
   "metadata": {},
   "source": [
    "### exercise"
   ]
  },
  {
   "cell_type": "code",
   "execution_count": 30,
   "id": "6440d16a-2a40-4a01-b1b2-fd6b7399ca63",
   "metadata": {
    "tags": []
   },
   "outputs": [
    {
     "data": {
      "text/plain": [
       "\u001b[0;31mDocstring:\u001b[0m\n",
       "print(value, ..., sep=' ', end='\\n', file=sys.stdout, flush=False)\n",
       "\n",
       "Prints the values to a stream, or to sys.stdout by default.\n",
       "Optional keyword arguments:\n",
       "file:  a file-like object (stream); defaults to the current sys.stdout.\n",
       "sep:   string inserted between values, default a space.\n",
       "end:   string appended after the last value, default a newline.\n",
       "flush: whether to forcibly flush the stream.\n",
       "\u001b[0;31mType:\u001b[0m      builtin_function_or_method\n"
      ]
     },
     "metadata": {},
     "output_type": "display_data"
    }
   ],
   "source": [
    "?print"
   ]
  },
  {
   "cell_type": "code",
   "execution_count": 31,
   "id": "09dea795-6313-4812-bf58-8e88f1000dc2",
   "metadata": {
    "tags": []
   },
   "outputs": [],
   "source": [
    "int1 = 77\n",
    "int2 = \"99\""
   ]
  },
  {
   "cell_type": "code",
   "execution_count": 35,
   "id": "efafd926-4f6c-4bae-b7b4-3bb9b318677a",
   "metadata": {
    "tags": []
   },
   "outputs": [
    {
     "name": "stdout",
     "output_type": "stream",
     "text": [
      "77%99%77\n"
     ]
    }
   ],
   "source": [
    "print(int1, int2, int1, sep = \"%\")"
   ]
  },
  {
   "cell_type": "code",
   "execution_count": null,
   "id": "27588c90-9950-4fd1-9d73-5e67837eb248",
   "metadata": {},
   "outputs": [],
   "source": []
  }
 ],
 "metadata": {
  "kernelspec": {
   "display_name": "Anaconda 3 (Base)",
   "language": "python",
   "name": "base"
  },
  "language_info": {
   "codemirror_mode": {
    "name": "ipython",
    "version": 3
   },
   "file_extension": ".py",
   "mimetype": "text/x-python",
   "name": "python",
   "nbconvert_exporter": "python",
   "pygments_lexer": "ipython3",
   "version": "3.9.13"
  }
 },
 "nbformat": 4,
 "nbformat_minor": 5
}
