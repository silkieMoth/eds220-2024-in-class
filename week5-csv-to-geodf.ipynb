{
 "cells": [
  {
   "cell_type": "markdown",
   "id": "613944fe-cff1-4787-8807-07e0a0e94c59",
   "metadata": {},
   "source": [
    "# CSV to `GeoDataFrame`\n",
    "\n",
    "import packages and update viewing options"
   ]
  },
  {
   "cell_type": "code",
   "execution_count": null,
   "id": "e86a6c64-a96d-47e2-a49c-501f8f7861dd",
   "metadata": {},
   "outputs": [],
   "source": [
    "import os\n",
    "\n",
    "import pandas as pd\n",
    "    from "
   ]
  }
 ],
 "metadata": {
  "kernelspec": {
   "display_name": "Anaconda 3 (Base)",
   "language": "python",
   "name": "base"
  },
  "language_info": {
   "codemirror_mode": {
    "name": "ipython",
    "version": 3
   },
   "file_extension": ".py",
   "mimetype": "text/x-python",
   "name": "python",
   "nbconvert_exporter": "python",
   "pygments_lexer": "ipython3",
   "version": "3.9.13"
  }
 },
 "nbformat": 4,
 "nbformat_minor": 5
}
