{
 "cells": [
  {
   "cell_type": "code",
   "execution_count": 1,
   "id": "c7942f35-f834-4ac0-bef9-e30875848062",
   "metadata": {
    "tags": []
   },
   "outputs": [],
   "source": [
    "import pandas as pd\n",
    "import numpy as np"
   ]
  },
  {
   "cell_type": "markdown",
   "id": "2425bc38-d422-4bde-a73c-1f33d149533f",
   "metadata": {},
   "source": [
    "## pandas arrays and series"
   ]
  },
  {
   "cell_type": "code",
   "execution_count": 2,
   "id": "050db574-e0fa-42ad-91c1-14958e712757",
   "metadata": {
    "tags": []
   },
   "outputs": [
    {
     "name": "stdout",
     "output_type": "stream",
     "text": [
      "<class 'numpy.ndarray'>\n",
      "[-0.54725699  0.87827138  1.00568797 -0.08913671] \n",
      "\n",
      "<class 'pandas.core.series.Series'>\n",
      "0   -0.547257\n",
      "1    0.878271\n",
      "2    1.005688\n",
      "3   -0.089137\n",
      "dtype: float64\n"
     ]
    }
   ],
   "source": [
    "# A numpy array\n",
    "arr = np.random.randn(4) # random values from std normal distribution\n",
    "print(type(arr))\n",
    "print(arr, \"\\n\")\n",
    "\n",
    "# A pandas series made from the previous array\n",
    "s = pd.Series(arr)\n",
    "print(type(s))\n",
    "print(s)"
   ]
  },
  {
   "cell_type": "markdown",
   "id": "6b21c279-de4a-404f-890e-ed648c6b4282",
   "metadata": {},
   "source": [
    "### examples of series"
   ]
  },
  {
   "cell_type": "markdown",
   "id": "8be22199-6829-4126-bf3b-e4c85d0663dc",
   "metadata": {
    "tags": []
   },
   "source": [
    "```{r}\n",
    "s = pd.Series(data, index=index)\n",
    "```"
   ]
  },
  {
   "cell_type": "code",
   "execution_count": 4,
   "id": "75ec4639-be8f-480f-8a2d-4292a80a9eef",
   "metadata": {
    "tags": []
   },
   "outputs": [
    {
     "data": {
      "text/plain": [
       "2023    0\n",
       "2024    1\n",
       "2025    2\n",
       "dtype: int64"
      ]
     },
     "execution_count": 4,
     "metadata": {},
     "output_type": "execute_result"
    }
   ],
   "source": [
    "# A series from a numpy array \n",
    "pd.Series(np.arange(3), index=[2023, 2024, 2025])"
   ]
  },
  {
   "cell_type": "markdown",
   "id": "7a099d43-0f58-460c-b573-fd15c51a3ea8",
   "metadata": {},
   "source": [
    "### creating a pandas series from a list"
   ]
  },
  {
   "cell_type": "code",
   "execution_count": 5,
   "id": "2b66f8ea-793b-45cd-9ed1-e6883eccf561",
   "metadata": {
    "tags": []
   },
   "outputs": [
    {
     "data": {
      "text/plain": [
       "0    EDS 220\n",
       "1    EDS 222\n",
       "2    EDS 223\n",
       "3    EDS 242\n",
       "dtype: object"
      ]
     },
     "execution_count": 5,
     "metadata": {},
     "output_type": "execute_result"
    }
   ],
   "source": [
    "# A series from a list of strings with default index\n",
    "pd.Series(['EDS 220', 'EDS 222', 'EDS 223', 'EDS 242'])"
   ]
  },
  {
   "cell_type": "markdown",
   "id": "d41990e3-85c3-44e9-963f-1a2dd7f2509f",
   "metadata": {},
   "source": [
    "### creating a pandas series from a dictionary"
   ]
  },
  {
   "cell_type": "code",
   "execution_count": 6,
   "id": "e76f2af0-5b67-43f9-9ae3-fa1969233940",
   "metadata": {
    "tags": []
   },
   "outputs": [
    {
     "data": {
      "text/plain": [
       "key_0    2\n",
       "key_1    3\n",
       "key_2    5\n",
       "dtype: object"
      ]
     },
     "execution_count": 6,
     "metadata": {},
     "output_type": "execute_result"
    }
   ],
   "source": [
    "# Construct dictionary\n",
    "d = {'key_0':2, 'key_1':'3', 'key_2':5}\n",
    "\n",
    "# Initialize series using a dictionary\n",
    "pd.Series(d)"
   ]
  },
  {
   "cell_type": "markdown",
   "id": "5f177fcf-52a7-4305-b5c9-93047224fd9a",
   "metadata": {},
   "source": [
    "### creating a pandas series form a single value"
   ]
  },
  {
   "cell_type": "code",
   "execution_count": 7,
   "id": "8193c2c3-143a-49e2-97ed-4120fafd7473",
   "metadata": {
    "tags": []
   },
   "outputs": [
    {
     "data": {
      "text/plain": [
       "A    3.0\n",
       "B    3.0\n",
       "C    3.0\n",
       "dtype: float64"
      ]
     },
     "execution_count": 7,
     "metadata": {},
     "output_type": "execute_result"
    }
   ],
   "source": [
    "pd.Series(3.0, index = ['A', 'B', 'C'])"
   ]
  },
  {
   "cell_type": "markdown",
   "id": "868f899a-c729-4902-b7c8-7d5691ae27d7",
   "metadata": {},
   "source": [
    "### performing simple arithmetic operations on a series"
   ]
  },
  {
   "cell_type": "code",
   "execution_count": 8,
   "id": "de73e8f7-6ec6-4673-9a6f-44e9cb7ee464",
   "metadata": {
    "tags": []
   },
   "outputs": [
    {
     "name": "stdout",
     "output_type": "stream",
     "text": [
      "Andrea      9.8\n",
      "Beth        7.3\n",
      "Carolina    6.5\n",
      "dtype: float64 \n",
      "\n",
      "Andrea      3.637971e+42\n",
      "Beth        5.052394e+31\n",
      "Carolina    1.694889e+28\n",
      "dtype: float64 \n",
      "\n",
      "Andrea      98\n",
      "Beth        73\n",
      "Carolina    65\n",
      "dtype: int64\n"
     ]
    }
   ],
   "source": [
    "# Define a series\n",
    "s = pd.Series([98,73,65],index=['Andrea', 'Beth', 'Carolina'])\n",
    "\n",
    "# Divide each element in series by 10\n",
    "print(s /10, '\\n')\n",
    "\n",
    "# Take the exponential of each element in series\n",
    "print(np.exp(s), '\\n')\n",
    "\n",
    "# Original series is unchanged\n",
    "print(s)"
   ]
  },
  {
   "cell_type": "markdown",
   "id": "0cd4368c-09d4-44a9-906f-a0306fdf8dfb",
   "metadata": {},
   "source": [
    "### produce a new boolean series derived from a existing series with a true/false statment\n",
    "##### useful for selecting/filtering data"
   ]
  },
  {
   "cell_type": "code",
   "execution_count": 9,
   "id": "6542a9fc-8a71-4cb8-b336-6143de5e4432",
   "metadata": {
    "tags": []
   },
   "outputs": [
    {
     "data": {
      "text/plain": [
       "Andrea       True\n",
       "Beth         True\n",
       "Carolina    False\n",
       "dtype: bool"
      ]
     },
     "execution_count": 9,
     "metadata": {},
     "output_type": "execute_result"
    }
   ],
   "source": [
    "s > 70"
   ]
  },
  {
   "cell_type": "markdown",
   "id": "f95fb9b4-3222-4eec-a32f-36eb4803190f",
   "metadata": {},
   "source": [
    "### can turn nulls or nas into nan with np.nan"
   ]
  },
  {
   "cell_type": "code",
   "execution_count": 10,
   "id": "9fd47a99-ec3d-4331-baa9-1ea2ec7f097b",
   "metadata": {
    "tags": []
   },
   "outputs": [
    {
     "data": {
      "text/plain": [
       "0    1.0\n",
       "1    2.0\n",
       "2    NaN\n",
       "3    4.0\n",
       "4    NaN\n",
       "dtype: float64"
      ]
     },
     "execution_count": 10,
     "metadata": {},
     "output_type": "execute_result"
    }
   ],
   "source": [
    "# Series with NAs in it\n",
    "s = pd.Series([1, 2, np.nan, 4, np.nan])\n",
    "s"
   ]
  },
  {
   "cell_type": "markdown",
   "id": "baadcd22-c489-4d7f-888b-00cd9b41c222",
   "metadata": {},
   "source": [
    "### the hasnans attribute checks if series has any nas"
   ]
  },
  {
   "cell_type": "code",
   "execution_count": 12,
   "id": "57350b87-3548-41f0-8878-d870478d5c60",
   "metadata": {
    "tags": []
   },
   "outputs": [
    {
     "data": {
      "text/plain": [
       "True"
      ]
     },
     "execution_count": 12,
     "metadata": {},
     "output_type": "execute_result"
    }
   ],
   "source": [
    "# Check if series has NAs\n",
    "s.hasnans"
   ]
  },
  {
   "cell_type": "markdown",
   "id": "670428b2-7344-419d-9d6a-58db831f812f",
   "metadata": {},
   "source": [
    "### isna() method shows exactly which values are na\n",
    "##### because `-999` is frequently used to represent na, `mask()` can turn those into `NA`"
   ]
  },
  {
   "cell_type": "code",
   "execution_count": 14,
   "id": "b9977113-eff0-40fc-9aaf-a11b2ecfb772",
   "metadata": {
    "tags": []
   },
   "outputs": [
    {
     "data": {
      "text/plain": [
       "0    False\n",
       "1    False\n",
       "2     True\n",
       "3    False\n",
       "4     True\n",
       "dtype: bool"
      ]
     },
     "execution_count": 14,
     "metadata": {},
     "output_type": "execute_result"
    }
   ],
   "source": [
    "s.isna()"
   ]
  },
  {
   "cell_type": "markdown",
   "id": "5cb69f0c-5f08-4a46-9b0e-47b018545237",
   "metadata": {},
   "source": [
    "### making a dataframe"
   ]
  },
  {
   "cell_type": "code",
   "execution_count": 15,
   "id": "af4cd263-cfab-4724-a5ef-af92e024a040",
   "metadata": {
    "tags": []
   },
   "outputs": [
    {
     "data": {
      "text/html": [
       "<div>\n",
       "<style scoped>\n",
       "    .dataframe tbody tr th:only-of-type {\n",
       "        vertical-align: middle;\n",
       "    }\n",
       "\n",
       "    .dataframe tbody tr th {\n",
       "        vertical-align: top;\n",
       "    }\n",
       "\n",
       "    .dataframe thead th {\n",
       "        text-align: right;\n",
       "    }\n",
       "</style>\n",
       "<table border=\"1\" class=\"dataframe\">\n",
       "  <thead>\n",
       "    <tr style=\"text-align: right;\">\n",
       "      <th></th>\n",
       "      <th>col_name_1</th>\n",
       "      <th>col_name_2</th>\n",
       "    </tr>\n",
       "  </thead>\n",
       "  <tbody>\n",
       "    <tr>\n",
       "      <th>0</th>\n",
       "      <td>0</td>\n",
       "      <td>3.1</td>\n",
       "    </tr>\n",
       "    <tr>\n",
       "      <th>1</th>\n",
       "      <td>1</td>\n",
       "      <td>3.2</td>\n",
       "    </tr>\n",
       "    <tr>\n",
       "      <th>2</th>\n",
       "      <td>2</td>\n",
       "      <td>3.3</td>\n",
       "    </tr>\n",
       "  </tbody>\n",
       "</table>\n",
       "</div>"
      ],
      "text/plain": [
       "   col_name_1  col_name_2\n",
       "0           0         3.1\n",
       "1           1         3.2\n",
       "2           2         3.3"
      ]
     },
     "execution_count": 15,
     "metadata": {},
     "output_type": "execute_result"
    }
   ],
   "source": [
    "# Initialize dictionary with columns' data \n",
    "d = {'col_name_1' : pd.Series(np.arange(3)),\n",
    "     'col_name_2' : pd.Series([3.1, 3.2, 3.3]),\n",
    "     }\n",
    "\n",
    "# Create data frame\n",
    "df = pd.DataFrame(d)\n",
    "df"
   ]
  },
  {
   "cell_type": "markdown",
   "id": "c57a0c3e-b8fe-4e37-b986-c3447b1dcb05",
   "metadata": {},
   "source": [
    "### edit the index of an existing data frame this way"
   ]
  },
  {
   "cell_type": "code",
   "execution_count": 16,
   "id": "316a81b1-e9ef-45fd-818b-9155b670b349",
   "metadata": {
    "tags": []
   },
   "outputs": [
    {
     "data": {
      "text/html": [
       "<div>\n",
       "<style scoped>\n",
       "    .dataframe tbody tr th:only-of-type {\n",
       "        vertical-align: middle;\n",
       "    }\n",
       "\n",
       "    .dataframe tbody tr th {\n",
       "        vertical-align: top;\n",
       "    }\n",
       "\n",
       "    .dataframe thead th {\n",
       "        text-align: right;\n",
       "    }\n",
       "</style>\n",
       "<table border=\"1\" class=\"dataframe\">\n",
       "  <thead>\n",
       "    <tr style=\"text-align: right;\">\n",
       "      <th></th>\n",
       "      <th>col_name_1</th>\n",
       "      <th>col_name_2</th>\n",
       "    </tr>\n",
       "  </thead>\n",
       "  <tbody>\n",
       "    <tr>\n",
       "      <th>a</th>\n",
       "      <td>0</td>\n",
       "      <td>3.1</td>\n",
       "    </tr>\n",
       "    <tr>\n",
       "      <th>b</th>\n",
       "      <td>1</td>\n",
       "      <td>3.2</td>\n",
       "    </tr>\n",
       "    <tr>\n",
       "      <th>c</th>\n",
       "      <td>2</td>\n",
       "      <td>3.3</td>\n",
       "    </tr>\n",
       "  </tbody>\n",
       "</table>\n",
       "</div>"
      ],
      "text/plain": [
       "   col_name_1  col_name_2\n",
       "a           0         3.1\n",
       "b           1         3.2\n",
       "c           2         3.3"
      ]
     },
     "execution_count": 16,
     "metadata": {},
     "output_type": "execute_result"
    }
   ],
   "source": [
    "# Change index\n",
    "df.index = ['a','b','c']\n",
    "df"
   ]
  },
  {
   "cell_type": "markdown",
   "id": "097ea66a-0ed7-40d1-b846-4cf3b2685248",
   "metadata": {
    "tags": []
   },
   "source": [
    "asdkfjsdgjosldgjsldgnolgesdf's"
   ]
  },
  {
   "cell_type": "markdown",
   "id": "790ebfb3-05b5-445a-bf7d-13811b50086c",
   "metadata": {},
   "source": [
    "# check in questions"
   ]
  },
  {
   "cell_type": "code",
   "execution_count": 3,
   "id": "10a6eaa7-0ab4-4d0a-94dd-1b94d868d67c",
   "metadata": {
    "tags": []
   },
   "outputs": [],
   "source": [
    "import pandas as pd\n",
    "s = pd.Series([51, -999, 102, -999], index = [\"A\", \"B\", \"C\", \"D\"])"
   ]
  },
  {
   "cell_type": "code",
   "execution_count": 4,
   "id": "0f526597-895a-4992-a4da-6ced311b6bf8",
   "metadata": {
    "tags": []
   },
   "outputs": [],
   "source": [
    "s = s.mask(s == -999)"
   ]
  },
  {
   "cell_type": "code",
   "execution_count": 24,
   "id": "7be7beae-99fb-427f-8012-bb5181ffff25",
   "metadata": {
    "tags": []
   },
   "outputs": [
    {
     "data": {
      "text/html": [
       "<div>\n",
       "<style scoped>\n",
       "    .dataframe tbody tr th:only-of-type {\n",
       "        vertical-align: middle;\n",
       "    }\n",
       "\n",
       "    .dataframe tbody tr th {\n",
       "        vertical-align: top;\n",
       "    }\n",
       "\n",
       "    .dataframe thead th {\n",
       "        text-align: right;\n",
       "    }\n",
       "</style>\n",
       "<table border=\"1\" class=\"dataframe\">\n",
       "  <thead>\n",
       "    <tr style=\"text-align: right;\">\n",
       "      <th></th>\n",
       "      <th>C1</th>\n",
       "      <th>C2</th>\n",
       "    </tr>\n",
       "  </thead>\n",
       "  <tbody>\n",
       "    <tr>\n",
       "      <th>a</th>\n",
       "      <td>0</td>\n",
       "      <td>3.1</td>\n",
       "    </tr>\n",
       "    <tr>\n",
       "      <th>b</th>\n",
       "      <td>1</td>\n",
       "      <td>3.2</td>\n",
       "    </tr>\n",
       "    <tr>\n",
       "      <th>c</th>\n",
       "      <td>2</td>\n",
       "      <td>3.3</td>\n",
       "    </tr>\n",
       "  </tbody>\n",
       "</table>\n",
       "</div>"
      ],
      "text/plain": [
       "   C1   C2\n",
       "a   0  3.1\n",
       "b   1  3.2\n",
       "c   2  3.3"
      ]
     },
     "execution_count": 24,
     "metadata": {},
     "output_type": "execute_result"
    }
   ],
   "source": [
    "# editing the df columns\n",
    "df.columns = [\"C1\", \"C2\"]\n",
    "df"
   ]
  },
  {
   "cell_type": "markdown",
   "id": "35ba67b2-200d-4f0c-b0d8-ebd16e75a37c",
   "metadata": {},
   "source": [
    "## lesson summary\n",
    "\n",
    "array is just a sequence of numbers, series is sequence of numbers with index, dataframe is a tabular chart, and dictionary is list thing with a 1:1 values cooresponding to each other (key:value). math can be done on pandas objects, including most numpy functions, and data can easily be manipulated to ones will"
   ]
  },
  {
   "cell_type": "code",
   "execution_count": null,
   "id": "1aecaa8d-daa7-4938-ab88-afe8adfc7b47",
   "metadata": {},
   "outputs": [],
   "source": []
  }
 ],
 "metadata": {
  "kernelspec": {
   "display_name": "Anaconda 3 (Base)",
   "language": "python",
   "name": "base"
  },
  "language_info": {
   "codemirror_mode": {
    "name": "ipython",
    "version": 3
   },
   "file_extension": ".py",
   "mimetype": "text/x-python",
   "name": "python",
   "nbconvert_exporter": "python",
   "pygments_lexer": "ipython3",
   "version": "3.9.13"
  }
 },
 "nbformat": 4,
 "nbformat_minor": 5
}
